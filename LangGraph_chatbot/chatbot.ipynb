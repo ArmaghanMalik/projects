{
 "cells": [
  {
   "cell_type": "code",
   "execution_count": 1,
   "id": "33690706",
   "metadata": {},
   "outputs": [],
   "source": [
    "## Tools\n",
    "\n",
    "from langchain_community.tools import ArxivQueryRun, WikipediaQueryRun\n",
    "from langchain_community.utilities import WikipediaAPIWrapper, ArxivAPIWrapper"
   ]
  },
  {
   "cell_type": "code",
   "execution_count": 2,
   "id": "87cd8450",
   "metadata": {},
   "outputs": [
    {
     "name": "stdout",
     "output_type": "stream",
     "text": [
      "arxiv\n"
     ]
    }
   ],
   "source": [
    "api_wrapper_arxiv = ArxivAPIWrapper(top_k_results=2, doc_content_chars_max=5000)\n",
    "arxiv = ArxivQueryRun(api_wrapper=api_wrapper_arxiv,description= \"Query arxiv papers\")\n",
    "print(arxiv.name)"
   ]
  },
  {
   "cell_type": "code",
   "execution_count": 3,
   "id": "6b7175ed",
   "metadata": {},
   "outputs": [
    {
     "data": {
      "text/plain": [
       "\"Published: 2024-04-19\\nTitle: Large Language Model based Multi-Agents: A Survey of Progress and Challenges\\nAuthors: Taicheng Guo, Xiuying Chen, Yaqi Wang, Ruidi Chang, Shichao Pei, Nitesh V. Chawla, Olaf Wiest, Xiangliang Zhang\\nSummary: Large Language Models (LLMs) have achieved remarkable success across a wide\\narray of tasks. Due to the impressive planning and reasoning abilities of LLMs,\\nthey have been used as autonomous agents to do many tasks automatically.\\nRecently, based on the development of using one LLM as a single planning or\\ndecision-making agent, LLM-based multi-agent systems have achieved considerable\\nprogress in complex problem-solving and world simulation. To provide the\\ncommunity with an overview of this dynamic field, we present this survey to\\noffer an in-depth discussion on the essential aspects of multi-agent systems\\nbased on LLMs, as well as the challenges. Our goal is for readers to gain\\nsubstantial insights on the following questions: What domains and environments\\ndo LLM-based multi-agents simulate? How are these agents profiled and how do\\nthey communicate? What mechanisms contribute to the growth of agents'\\ncapacities? For those interested in delving into this field of study, we also\\nsummarize the commonly used datasets or benchmarks for them to have convenient\\naccess. To keep researchers updated on the latest studies, we maintain an\\nopen-source GitHub repository, dedicated to outlining the research on LLM-based\\nmulti-agent systems.\\n\\nPublished: 2024-12-21\\nTitle: SubData: A Python Library to Collect and Combine Datasets for Evaluating LLM Alignment on Downstream Tasks\\nAuthors: Leon Fröhling, Pietro Bernardelle, Gianluca Demartini\\nSummary: With the release of ever more capable large language models (LLMs),\\nresearchers in NLP and related disciplines have started to explore the\\nusability of LLMs for a wide variety of different annotation tasks. Very\\nrecently, a lot of this attention has shifted to tasks that are subjective in\\nnature. Given that the latest generations of LLMs have digested and encoded\\nextensive knowledge about different human subpopulations and individuals, the\\nhope is that these models can be trained, tuned or prompted to align with a\\nwide range of different human perspectives. While researchers already evaluate\\nthe success of this alignment via surveys and tests, there is a lack of\\nresources to evaluate the alignment on what oftentimes matters the most in NLP;\\nthe actual downstream tasks. To fill this gap we present SubData, a Python\\nlibrary that offers researchers working on topics related to subjectivity in\\nannotation tasks a convenient way of collecting, combining and using a range of\\nsuitable datasets.\""
      ]
     },
     "execution_count": 3,
     "metadata": {},
     "output_type": "execute_result"
    }
   ],
   "source": [
    "arxiv.invoke(\"what is latest research on LLMs\")"
   ]
  },
  {
   "cell_type": "code",
   "execution_count": 4,
   "id": "2cb1ff35",
   "metadata": {},
   "outputs": [
    {
     "name": "stdout",
     "output_type": "stream",
     "text": [
      "wikipedia\n"
     ]
    }
   ],
   "source": [
    "api_wrapper_wikipedia = WikipediaAPIWrapper(top_k_results=1, doc_content_chars_max=500)\n",
    "wiki = WikipediaQueryRun(api_wrapper=api_wrapper_wikipedia)\n",
    "print(wiki.name)"
   ]
  },
  {
   "cell_type": "code",
   "execution_count": 6,
   "id": "30462869",
   "metadata": {},
   "outputs": [
    {
     "data": {
      "text/plain": [
       "\"Page: List of Game of Thrones episodes\\nSummary: Game of Thrones is an American fantasy drama television series created by David Benioff and D. B. Weiss. The series is based on George R. R. Martin's series of fantasy novels, A Song of Ice and Fire. The series takes place on the fictional continents of Westeros and Essos, and chronicles the power struggles among noble families as they fight for control of the Iron Throne of the Seven Kingdoms. The series starts when House Stark, led by Lord Eddard\""
      ]
     },
     "execution_count": 6,
     "metadata": {},
     "output_type": "execute_result"
    }
   ],
   "source": [
    "wiki.invoke(\"When was Game of thrones aired?\")"
   ]
  },
  {
   "cell_type": "code",
   "execution_count": null,
   "id": "94230f45",
   "metadata": {},
   "outputs": [],
   "source": [
    "from dotenv import load_dotenv\n",
    "import os\n",
    "\n",
    "os.environ[\"GROQ_API_KEY\"]=os.getenv(\"GROQ_API_KEY\")\n",
    "os.environ[\"TAVILY_API_KEY\"]=os.getenv(\"TAVILY_API_KEY\")\n"
   ]
  },
  {
   "cell_type": "code",
   "execution_count": 8,
   "id": "80b9209f",
   "metadata": {},
   "outputs": [],
   "source": [
    "from langchain_community.tools.tavily_search import TavilySearchResults\n",
    "\n",
    "tavily = TavilySearchResults()"
   ]
  },
  {
   "cell_type": "code",
   "execution_count": 10,
   "id": "67e9c232",
   "metadata": {},
   "outputs": [
    {
     "data": {
      "text/plain": [
       "[{'title': 'eConceptions - 2025 Company Profile & Competitors - Tracxn',\n",
       "  'url': 'https://tracxn.com/d/companies/econceptions/__-uJqveSZorg5He-FMS-yVVeoX9ESGndVp5l1VohqPL0',\n",
       "  'content': 'eConceptions is an unfunded company based in Islamabad (Pakistan), founded in 2007. It operates as a Provider of web designing, e-commerce development and',\n",
       "  'score': 0.8765607},\n",
       " {'title': 'eConceptions Information - RocketReach',\n",
       "  'url': 'https://rocketreach.co/econceptions-profile_b5cc1888f42e0a43',\n",
       "  'content': 'eConceptions is a Software Development, Membership Organizations, and Software company located in Rawalpindi, Punjab with $16.1 million in revenue and 83',\n",
       "  'score': 0.83678174},\n",
       " {'title': 'eConceptions - Crunchbase Company Profile & Funding',\n",
       "  'url': 'https://www.crunchbase.com/organization/econceptions',\n",
       "  'content': 'eConceptions, a digital agency based in Pakistan, offers mobile and web application development and 3D animation services to its clients.',\n",
       "  'score': 0.83290404},\n",
       " {'title': 'eConceptions Data Breach in 2025 - Breachsense',\n",
       "  'url': 'https://www.breachsense.com/breaches/econceptions-data-breach/',\n",
       "  'content': 'eConceptions is a mobile and telecom solution provider based in Pakistan. Leak Size, 5GB. Detect & Prevent Data Breaches in Real Time With',\n",
       "  'score': 0.82994765},\n",
       " {'title': 'eConceptions - Architects of the VAS World !',\n",
       "  'url': 'https://econceptions.mobi/',\n",
       "  'content': \"Experience the Thrill of eStream: Jazz and eConceptions Unveil Pakistan's Premier Multiplayer Gaming and Streaming Platform. Read More. CRM and Chatbot solution.\",\n",
       "  'score': 0.7598145}]"
      ]
     },
     "execution_count": 10,
     "metadata": {},
     "output_type": "execute_result"
    }
   ],
   "source": [
    "tavily.invoke(\"Econceptions Pakistan\")"
   ]
  },
  {
   "cell_type": "code",
   "execution_count": 11,
   "id": "939be5d0",
   "metadata": {},
   "outputs": [],
   "source": [
    "#Combine all these tools in the list\n",
    "tools = [arxiv, wiki, tavily]"
   ]
  },
  {
   "cell_type": "code",
   "execution_count": null,
   "id": "c1349d71",
   "metadata": {},
   "outputs": [],
   "source": [
    "#Initializing our LLM model\n",
    "\n",
    "from langchain_groq import ChatGroq\n",
    "\n",
    "llm = ChatGroq(model=\"qwen-qwq-32b\")\n"
   ]
  },
  {
   "cell_type": "code",
   "execution_count": 14,
   "id": "9c0fc53a",
   "metadata": {},
   "outputs": [
    {
     "data": {
      "text/plain": [
       "AIMessage(content=\"\\n<think>\\nOkay, the user is asking about the latest LLM models. Let me start by recalling what LLM stands for—Large Language Models. These are AI systems designed to understand and generate human-like text. The question is a bit broad because there are several models being developed by various companies and researchers. \\n\\nFirst, I should consider the major players in this field to cover the most up-to-date models. OpenAI comes to mind immediately with their GPT series. The latest version is GPT-4, right? But wait, I think there have been some developments in other areas too. Let me check my knowledge. \\n\\nOpenAI has GPT-4, which was released in March 2023. They also have GPT-4 Turbo, which is optimized for cost and speed. Then there's the GPT-4 Vision model, which incorporates visual reasoning. But are these the latest? I should also mention if there's a GPT-5 in development, but I don't think it's been officially released yet. Maybe they're working on it, but the user might be interested in models that are actually available now.\\n\\nNext, Google's LLMs. They have Gemini, which I believe is their new series. Gemini 3 was released in March 2024. That's quite recent. The Gemini series includes versions like Gemini-3, Gemini-2, and maybe a Pro version. I should note the capabilities like code writing, multi-modal tasks, and their performance compared to others.\\n\\nAmazon's Titan series is another contender. The Titan 4 series was released in 2024 with features like contextual fluency and code generation. They also have Titan 4 Pro which is more powerful.\\n\\nMeta's Llama series has been making waves too. Llama 4.0 came out in 2024, with improved performance, efficiency, and multi-modal capabilities. They also have the Llama Code series for coding tasks.\\n\\nMicrosoft's models, like the Copilot series, might be relevant here. They have models for specific applications, maybe something like Copilot Pro for more complex tasks. Also, their partnership with OpenAI might mean they're using some of their models as well.\\n\\nOther companies like Anthropic have Claude 4, which is another advanced LLM. Then there's Baidu's Wenxin Yiyan 4.0 and Alibaba's Qwen, which are also significant in the Chinese market.\\n\\nI should also consider the capabilities of these models beyond just text, like multi-modal processing (incorporating images, audio), code generation, and specialized tasks. It's important to highlight what makes each of these models stand out, such as efficiency, training data, and specific use cases.\\n\\nWait, the user might also be interested in the latest trends. For example, some models are focusing on being more efficient to run, requiring less computational resources. Others are pushing for better real-world application, like in coding or customer service. There's also the aspect of model transparency and ethical considerations, though that might be more of a side note.\\n\\nI should structure this information by listing each company's latest models with their names, release dates, and key features. Maybe start with the most well-known ones like OpenAI's GPT-4 series, then Google, Amazon, Meta, and others. Also, mention any notable versions in development that aren't released yet, but clarify their status.\\n\\nI need to make sure the information is accurate. Let me verify the release dates and features. For instance, GPT-4 was indeed in March 2023, but GPT-4 Turbo came later. Gemini 3 was March 2024. Titan 4 in 2024. Llama 4.0 in 2024. Claude 4 in 2024. Wenxin Yiyan 4 and Qwen 5.0 also in 2024. \\n\\nAlso, some models have specialized versions like Gemini Pro or Titan 4 Pro, which are optimized for certain tasks. It's important to note those. Additionally, the multi-modal capabilities are a big trend now, so that's a key point to include.\\n\\nPotential confusion points: The exact release dates might be tricky if some models were updated more recently than others. Also, different regions might have different release timelines for models developed by companies based in specific countries. For example, Baidu's model is more prominent in China, so maybe mention the regional context.\\n\\nThe user might also be asking for the absolute latest, so checking if there have been any recent announcements. Since my knowledge is up to December 2024, I should mention that the information is up to that point and advise checking for the latest updates.\\n\\nFinally, I should summarize the key trends and offer to provide more details on any specific model if the user is interested. That way, the answer covers the main points without getting too bogged down in every detail but still provides a comprehensive overview.\\n</think>\\n\\nThe field of Large Language Models (LLMs) is rapidly evolving, with frequent updates and new releases. Below is an overview of the latest LLM models as of December 2024, organized by leading providers:\\n\\n---\\n\\n### **1. OpenAI**\\n- **GPT-4 Series (March 2024 updates)**:\\n  - **GPT-4**: The core version, known for advanced reasoning, contextual understanding, and safety mechanisms.\\n  - **GPT-4 Vision**: Integrates visual reasoning (e.g., interpreting images alongside text).\\n  - **GPT-4 Turbo**: Optimized for cost and speed, ideal for less complex tasks.\\n  - **GPT-4 All-Engine**: Combines the capabilities of GPT-4, GPT-4 Vision, and GPT-4 Turbo into a single model.\\n\\n- **GPT-5 Development**:\\n  - OpenAI is reportedly working on **GPT-5**, which may feature even larger parameter counts, enhanced multi-modal capabilities, and improved efficiency. However, as of now, it’s still in development.\\n\\n---\\n\\n### **2. Google**\\n- **Gemini Series (2024 Updates)**:\\n  - **Gemini 3**: Released in March 2024, this model excels in code generation, natural language tasks, and multi-modal reasoning (e.g., processing images, text, and code together).\\n  - **Gemini Pro**: A high-performance variant optimized for complex tasks like long-form writing or scientific analysis.\\n  - **Gemini 3.5**: Announced in late 2024, with further refinements in code and conversational abilities.\\n\\n- **Gemini AI Research Series**:\\n  - Models like **Gemini-Max** and **Gemini-Gen** target specialized use cases, such as generating high-quality text or handling large-scale data.\\n\\n---\\n\\n### **3. Amazon**\\n- **Titan Series (2024 Updates)**:\\n  - **Titan 4**: Released in Q2 2024, with improvements in contextual understanding and code generation.\\n  - **Titan 4 Pro**: A more powerful version for complex tasks like legal analysis or technical writing.\\n  - **Titan-E**: Designed for efficiency, offering strong performance at lower computational costs.\\n\\n---\\n\\n### **4. Meta (Facebook)**\\n- **Llama Series (2024 Releases)**:\\n  - **Llama 4.0**: Released in early 2024, with enhanced performance in multitasking and code writing.\\n  - **Llama Code 4.0**: Specialized for coding, including debugging and generating documentation.\\n  - **Llama 4 Pro**: A powerful, research-focused variant with multi-modal capabilities.\\n\\n- **SAM (Self-Supervised Learning)**: Meta’s research on self-supervised learning is pushing the boundaries of LLMs' contextual understanding without extensive labeled data.\\n\\n---\\n\\n### **5. Anthropic**\\n- **Claude 4 (2024)**:\\n  - Known for safety and alignment with human values, Claude 4 offers strong code-writing and conversational abilities. It includes features like **Claude 4 Vision** for multi-modal tasks.\\n\\n---\\n\\n### **6. Baidu (China)**\\n- **Wenxin Yiyan 4.0 (2024)**:\\n  - Baidu’s latest model improves on previous versions with better contextual awareness and multi-language support, targeting both general and specialized tasks.\\n\\n---\\n\\n### **7. Alibaba**\\n- **Qwen 5.0 (2024)**:\\n  - Alibaba’s Qwen series continues to evolve, with Qwen 5.0 focusing on efficiency, code generation, and multi-modal capabilities (e.g., image-to-text, text-to-speech).\\n\\n---\\n\\n### **Notable Features Across Models**\\n1. **Multi-Modal Capabilities**:**\\n   - Many models now handle **images, code, and text** (e.g., GPT-4 Vision, Gemini 3, and Llama 4.0).\\n2. **Code Generation:**\\n   - Specialized versions like **Llama Code 4.0** and **Gemini’s code capabilities** are in high demand for developers.\\n3. **Efficiency:**\\n   - **Titan-E** (Amazon) and **Claude 4** prioritize lower computational costs without sacrificing performance.\\n4. **Ethics and Safety:**\\n   - Models like **Claude 4** and **OpenAI’s GPT-4** emphasize alignment with human values and reduced biases.\\n\\n---\\n\\n### **Emerging Trends (2024–2025)**\\n- **Super-Resolution and Efficiency**: Models like **GPT-4 Vision** and **Gemini Pro** are becoming more efficient while maintaining power.\\n- **Customization Tools**: Companies like Amazon (Bedrock) and Google (Vertex AI) offer platforms to fine-tune LLMs for specific use cases.\\n- **Specialized Models**: Industry-specific models (e.g., healthcare, legal) are becoming more common.\\n\\n---\\n\\n### **Key Considerations**\\n- **Availability**: Access varies by region. For example, Baidu’s models are widely used in China, while OpenAI’s models are dominant globally.\\n- **Cost**: Pro/Enterprise versions (e.g., Llama 4 Pro, Titan 4 Pro) often require paid licenses.\\n- **Research vs. Commercial Use**: Many cutting-edge models (e.g., Llama series) are open-source for researchers, while commercial versions may have restrictions.\\n\\n---\\n\\n### **How to Stay Updated**\\n- Follow official releases from companies like OpenAI, Google, and Meta.\\n- Track research papers on platforms like [arXiv](https://arxiv.org/).\\n- Monitor developer platforms (e.g., AWS Bedrock, Hugging Face).\\n\\nIf you’re looking for a specific application (e.g., coding, customer service, research), let me know, and I can highlight the best-suited models!\", additional_kwargs={}, response_metadata={'token_usage': {'completion_tokens': 2265, 'prompt_tokens': 14, 'total_tokens': 2279, 'completion_time': 5.5634108399999995, 'prompt_time': 0.002884098, 'queue_time': 0.017115771000000002, 'total_time': 5.566294938}, 'model_name': 'qwen-qwq-32b', 'system_fingerprint': 'fp_3796682456', 'finish_reason': 'stop', 'logprobs': None}, id='run-ba3821c5-f7b8-4302-845e-5e474dc8d4bf-0', usage_metadata={'input_tokens': 14, 'output_tokens': 2265, 'total_tokens': 2279})"
      ]
     },
     "execution_count": 14,
     "metadata": {},
     "output_type": "execute_result"
    }
   ],
   "source": [
    "llm.invoke(\"Latest LLM model\")"
   ]
  },
  {
   "cell_type": "code",
   "execution_count": null,
   "id": "d282d704",
   "metadata": {},
   "outputs": [],
   "source": [
    "llm_bind_tools = llm.bind_tools(tools=tools)"
   ]
  },
  {
   "cell_type": "code",
   "execution_count": 18,
   "id": "117e70b7",
   "metadata": {},
   "outputs": [
    {
     "data": {
      "text/plain": [
       "AIMessage(content='', additional_kwargs={'tool_calls': [{'id': 'call_nxqx', 'function': {'arguments': '{\"query\": \"Greek history\"}', 'name': 'wikipedia'}, 'type': 'function'}]}, response_metadata={'token_usage': {'completion_tokens': 286, 'prompt_tokens': 350, 'total_tokens': 636, 'completion_time': 0.713509806, 'prompt_time': 0.033663163, 'queue_time': 0.08925301899999999, 'total_time': 0.747172969}, 'model_name': 'qwen-qwq-32b', 'system_fingerprint': 'fp_3796682456', 'finish_reason': 'tool_calls', 'logprobs': None}, id='run-3ec16c43-e7bb-434b-8950-9de89928b712-0', tool_calls=[{'name': 'wikipedia', 'args': {'query': 'Greek history'}, 'id': 'call_nxqx', 'type': 'tool_call'}], usage_metadata={'input_tokens': 350, 'output_tokens': 286, 'total_tokens': 636})"
      ]
     },
     "execution_count": 18,
     "metadata": {},
     "output_type": "execute_result"
    }
   ],
   "source": [
    "llm_bind_tools.invoke(\"Greek history\")"
   ]
  },
  {
   "cell_type": "code",
   "execution_count": 19,
   "id": "d93d8c2f",
   "metadata": {},
   "outputs": [
    {
     "data": {
      "text/plain": [
       "AIMessage(content='I am Qwen, a large language model developed by Alibaba Cloud. I can assist with a wide range of tasks, such as answering questions, writing stories, emails, scripts, performing logical reasoning, coding, and more. I can also help by accessing external information through tools like Wikipedia, arXiv, or web searches when needed. How can I assist you today?', additional_kwargs={}, response_metadata={'token_usage': {'completion_tokens': 287, 'prompt_tokens': 352, 'total_tokens': 639, 'completion_time': 0.717829357, 'prompt_time': 0.060332165, 'queue_time': 0.432172199, 'total_time': 0.778161522}, 'model_name': 'qwen-qwq-32b', 'system_fingerprint': 'fp_3796682456', 'finish_reason': 'stop', 'logprobs': None}, id='run-50d3ed35-a3a9-4c05-b334-03d18923c58a-0', usage_metadata={'input_tokens': 352, 'output_tokens': 287, 'total_tokens': 639})"
      ]
     },
     "execution_count": 19,
     "metadata": {},
     "output_type": "execute_result"
    }
   ],
   "source": [
    "llm_bind_tools.invoke(\"Who are you?\")"
   ]
  },
  {
   "cell_type": "markdown",
   "id": "32401e82",
   "metadata": {},
   "source": [
    "WorkFlow"
   ]
  },
  {
   "cell_type": "code",
   "execution_count": null,
   "id": "f21bdd52",
   "metadata": {},
   "outputs": [],
   "source": [
    "from typing_extensions import TypedDict\n",
    "from langchain_core.messages import AnyMessage #Human message or AI message\n",
    "from typing import Annotated #Labeling\n",
    "from langgraph.graph.message import add_messages #Reducers in Langgraph"
   ]
  },
  {
   "cell_type": "code",
   "execution_count": 21,
   "id": "3dda6b64",
   "metadata": {},
   "outputs": [],
   "source": [
    "class State(TypedDict):\n",
    "    messages: Annotated[list[AnyMessage], add_messages]"
   ]
  },
  {
   "cell_type": "code",
   "execution_count": 33,
   "id": "d697b363",
   "metadata": {},
   "outputs": [],
   "source": [
    "from IPython.display import Image, display\n",
    "from langgraph.graph import StateGraph, START, END\n",
    "from langgraph.prebuilt import ToolNode\n",
    "from langgraph.prebuilt import tools_condition\n"
   ]
  },
  {
   "cell_type": "code",
   "execution_count": 73,
   "id": "3d6a4466",
   "metadata": {},
   "outputs": [
    {
     "data": {
      "image/png": "[encoded data removed]",
      "text/plain": [
       "<IPython.core.display.Image object>"
      ]
     },
     "metadata": {},
     "output_type": "display_data"
    }
   ],
   "source": [
    "#Node definition\n",
    "def tool_calling_llm(state:State):\n",
    "    return {\"messages\" :[llm_bind_tools.invoke(state[\"messages\"])]}\n",
    "\n",
    "#Building Graph\n",
    "builder = StateGraph(State)\n",
    "builder.add_node(\"tool_calling_llm\", tool_calling_llm)\n",
    "builder.add_node(\"tools\", ToolNode(tools))\n",
    "\n",
    "#Edges\n",
    "builder.add_edge(START, \"tool_calling_llm\")\n",
    "builder.add_conditional_edges(\n",
    "    \"tool_calling_llm\",\n",
    "    #if latest msg (res) from assistant is a tool call tools_condition routes to tools\n",
    "    #if latest msg (res) from assistant is a tool call tools_condition routes to END\n",
    "    tools_condition\n",
    ")\n",
    "builder.add_edge(\"tools\", \"tool_calling_llm\")\n",
    "\n",
    "graph = builder.compile()\n",
    "\n",
    "display(Image(graph.get_graph().draw_mermaid_png()))\n",
    "\n"
   ]
  },
  {
   "cell_type": "code",
   "execution_count": 74,
   "id": "b50212e9",
   "metadata": {},
   "outputs": [
    {
     "name": "stdout",
     "output_type": "stream",
     "text": [
      "================================\u001b[1m Human Message \u001b[0m=================================\n",
      "\n",
      "Greeks and Mecidonians\n",
      "==================================\u001b[1m Ai Message \u001b[0m==================================\n",
      "Tool Calls:\n",
      "  wikipedia (call_gww4)\n",
      " Call ID: call_gww4\n",
      "  Args:\n",
      "    query: Greeks and Macedonians\n",
      "=================================\u001b[1m Tool Message \u001b[0m=================================\n",
      "Name: wikipedia\n",
      "\n",
      "Page: Macedonians (Greeks)\n",
      "Summary: Macedonians (Greek: Μακεδόνες, Makedónes), also known as Greek Macedonians or Macedonian Greeks, are a regional and historical population group of ethnic Greeks, inhabiting or originating  from the Greek region of Macedonia, in Northern Greece. Most Macedonians live in or around the regional capital city of Thessaloniki and other cities and towns in Macedonia (Greece), while many have spread across Greece and in the diaspora.\n",
      "==================================\u001b[1m Ai Message \u001b[0m==================================\n",
      "\n",
      "The relationship between Greeks and Macedonians involves both historical and modern contexts, with nuances in identity and political relations:\n",
      "\n",
      "1. **Historical Context**  \n",
      "   - **Ancient Macedonians**: Considered part of the broader Greek world, sharing language, culture, and religion with other Greeks. Alexander the Great’s empire originated from Macedon, a region in northern Greece.  \n",
      "   - **Ethnic Identity**: Modern scholarship generally views ancient Macedonians as an ethnic Greek group, though some争议存在关于 their distinctiveness within Hellenism.\n",
      "\n",
      "2. **Modern Context**  \n",
      "   - **Macedonians in Greece**: Today, Greeks refer to ethnic Macedonians residing in Greek Macedonia, a region integral to modern Greece since 1913.  \n",
      "   - **North Macedonian Nation**: The Republic of North Macedonia (formerly Yugoslav Macedonia) emerged as an independent state in 1991. Its citizens self-identify as a distinct Slavic ethnicity, separate from Greeks.  \n",
      "   - **Naming Dispute**: Greece historically opposed the use of \"Macedonia\" due to territorial and cultural associations, leading to the compromise name \"North Macedonia\" in 2019 (Prespa Agreement).\n",
      "\n",
      "3. **Cultural & Political Tensions**:  \n",
      "   - Debates persist over historical narratives, with North Macedonia asserting a unique identity while Greece emphasizes the region’s Greek heritage.  \n",
      "   - Diaspora communities and geopolitical factors further complicate the relationship.\n",
      "\n",
      "Would you like me to elaborate on any specific aspect?\n"
     ]
    }
   ],
   "source": [
    "messages = graph.invoke({\"messages\":\"Greeks and Mecidonians\"})\n",
    "for m in messages['messages']:\n",
    "    m.pretty_print()"
   ]
  },
  {
   "cell_type": "code",
   "execution_count": 78,
   "id": "ec713abb",
   "metadata": {},
   "outputs": [
    {
     "name": "stdout",
     "output_type": "stream",
     "text": [
      "================================\u001b[1m Human Message \u001b[0m=================================\n",
      "\n",
      "econceptions pakistan\n",
      "==================================\u001b[1m Ai Message \u001b[0m==================================\n",
      "Tool Calls:\n",
      "  tavily_search_results_json (call_3p9k)\n",
      " Call ID: call_3p9k\n",
      "  Args:\n",
      "    query: econceptions pakistan\n",
      "=================================\u001b[1m Tool Message \u001b[0m=================================\n",
      "Name: tavily_search_results_json\n",
      "\n",
      "[{\"title\": \"eConceptions - 2025 Company Profile & Competitors - Tracxn\", \"url\": \"https://tracxn.com/d/companies/econceptions/__-uJqveSZorg5He-FMS-yVVeoX9ESGndVp5l1VohqPL0\", \"content\": \"eConceptions is an unfunded company based in Islamabad (Pakistan), founded in 2007. It operates as a Provider of web designing, e-commerce development and\", \"score\": 0.88822687}, {\"title\": \"eConceptions Information - RocketReach\", \"url\": \"https://rocketreach.co/econceptions-profile_b5cc1888f42e0a43\", \"content\": \"eConceptions is a Software Development, Membership Organizations, and Software company located in Rawalpindi, Punjab with $16.1 million in revenue and 83\", \"score\": 0.85825616}, {\"title\": \"eConceptions Data Breach in 2025 - Breachsense\", \"url\": \"https://www.breachsense.com/breaches/econceptions-data-breach/\", \"content\": \"eConceptions is a mobile and telecom solution provider based in Pakistan. Leak Size, 5GB. Detect & Prevent Data Breaches in Real Time With\", \"score\": 0.846159}, {\"title\": \"eConceptions - Crunchbase Company Profile & Funding\", \"url\": \"https://www.crunchbase.com/organization/econceptions\", \"content\": \"eConceptions, a digital agency based in Pakistan, offers mobile and web application development and 3D animation services to its clients.\", \"score\": 0.8446273}, {\"title\": \"eConceptions | LinkedIn\", \"url\": \"https://pk.linkedin.com/company/econceptions-vas\", \"content\": \"eConceptions (1w): We are Hiring! Position: Manager Product Development No. of Position: 01 Location: G-8, Islamabad, Pakistan Experience: 3+ years of experience as a Product Owner, Product Development Manager, or in a similar role within the IT industry. Qualification: Bachelor's degree in Computer Science, Software Engineer or related field. Key Responsibilities: · Define and communicate the product vision, strategy, and roadmap based on business objectives and market needs. . Remain involved [...] Specialties:\\nTelecom VAS, Core Banking Solution, Enterprise Banking Switch, VAS Content Services, SMS/ IVR Services, Banking Digital Channels, Internet Banking, Mobile Banking, FinTech, and Financial Technology\\n\\nLocations:\\nMandir Square, 1st floor, G8 Markaz, Islamabad, 44000, PK\\nGet Directions:\\nhttps://www.bing.com/maps?where=Mandir+Square%2C+1st+floor%2C+G8+Markaz+Islamabad+44000+PK&trk=org-locations_url [...] apply! Please complete the application form through the link: https://lnkd.in/gpyBW7gH #softwarehouse #softwaredevelopment #IT #telecommunication #VAS #digitalsolutions #digitalenterprisesolutions #hiring #islamabad #rawalpindi [Likes: 12, Comments: 1]; eConceptions (1w Edited): Join Our Innovative Team! Position: Sr. Manager Product No. of Positions: 01 Experience: 4-5 years Position level: Mid-Level Location: G-8, Islamabad About the Role: Are you passionate about technology and driven to\", \"score\": 0.8358192}]\n",
      "==================================\u001b[1m Ai Message \u001b[0m==================================\n",
      "\n",
      "eConceptions is a Pakistani technology company founded in 2007, based in Islamabad and with operations in Rawalpindi. Here's a summary of key details from available sources:\n",
      "\n",
      "1. **Core Services**:  \n",
      "   - Provides web design, e-commerce development, mobile and web application development, 3D animation, and telecom solutions.  \n",
      "   - Specializes in fintech, banking solutions (e.g., Core Banking Systems, Enterprise Banking Switch), and digital payment services.  \n",
      "\n",
      "2. **Company Size & Revenue**:  \n",
      "   - Reports ~83 employees and ~$16.1M in annual revenue (per RocketReach).  \n",
      "\n",
      "3. **Locations**:  \n",
      "   - Major offices in Islamabad (G-8 Markaz) and Rawalpindi, Punjab.  \n",
      "\n",
      "4. **Recent Activity**:  \n",
      "   - Actively hiring for roles like Product Development Manager (requirement: 3+ years in IT, product management experience).  \n",
      "   - Has a LinkedIn presence promoting their work in telecom VAS (Value-Added Services), digital banking, and FinTech.  \n",
      "\n",
      "5. **Note on Data Breach**:  \n",
      "   - A 2025 data breach is mentioned (5GB of data leaked), though the year 2025 may be an error (current year is 2023). Verify this detail further).  \n",
      "\n",
      "The company appears to specialize in digital solutions for the financial and telecom sectors in Pakistan, with a focus on enterprise clients. For official updates, check their LinkedIn or Crunchbase profiles.\n"
     ]
    }
   ],
   "source": [
    "messages = graph.invoke({\"messages\":\"econceptions pakistan\"})\n",
    "for m in messages['messages']:\n",
    "    m.pretty_print()"
   ]
  },
  {
   "cell_type": "code",
   "execution_count": 76,
   "id": "70ed53a8",
   "metadata": {},
   "outputs": [
    {
     "name": "stdout",
     "output_type": "stream",
     "text": [
      "================================\u001b[1m Human Message \u001b[0m=================================\n",
      "\n",
      "Recent crypto news in pakistan  and then tell me about the history of digital currency?\n",
      "==================================\u001b[1m Ai Message \u001b[0m==================================\n",
      "Tool Calls:\n",
      "  tavily_search_results_json (call_s955)\n",
      " Call ID: call_s955\n",
      "  Args:\n",
      "    query: Recent crypto news in Pakistan\n",
      "  wikipedia (call_3k3x)\n",
      " Call ID: call_3k3x\n",
      "  Args:\n",
      "    query: history of digital currency\n",
      "=================================\u001b[1m Tool Message \u001b[0m=================================\n",
      "Name: tavily_search_results_json\n",
      "\n",
      "[{\"title\": \"Pakistan - CoinDesk\", \"url\": \"https://www.coindesk.com/tag/pakistan\", \"content\": \"Cryptocurrencies will “never be legalized in Pakistan,” said Minister of State for Finance and Revenue Aisha Ghaus Pasha.\\n\\nBy Amitoj SinghMay 18, 2023\\n\\nPakistan Mulls Crypto Future; Bitcoin’s Fed Boost\\n\\nPakistan to take a fresh look at cryptocurrency. Kazakhstan orders bitcoin miners to file regular status reports. Biggest Fed hike in 22 years sees Bitcoin close to $40,000 mark. Those stories and other news shaping the cryptocurrency and blockchain world in this episode of “The Daily Forkast.” [...] By Camomile ShumbaFeb 27, 2025\\n\\nPolicy\\n\\nFATF Did Not Require Pakistan to Ban Crypto to Stay Off Its 'Grey List'\\n\\nPakistan's Minister of State for Finance and Revenue has reportedly said crypto cannot be legalized in the nation due to conditions set by the global money laundering watchdog for staying off of its list of countries under increased monitoring.\\n\\nBy Amitoj SinghMay 24, 2023\\n\\nPolicy\\n\\nPakistan Announces Fresh Ban on Crypto, but Adoption as a Hedge Remains Popular [...] May 5, 2022\\n\\nPakistan’s Crypto Warning; Indian Banks’ Crypto Reluctance\\n\\nRussia proposes crypto mining hotspots. State Bank of Pakistan’s governor warns crypto risks outweigh benefits. India’s central bank stranglehold leaves banks hesitant over crypto. We’ll have more on those stories and other news shaping the cryptocurrency and blockchain world in this episode of “The Daily Forkast.”\\n\\nFeb 16, 2022\\n\\nFinance\\n\\nPakistan’s Crime Agency to Ask Telecom Authority to Block Crypto Websites: Report\", \"score\": 0.86303437}, {\"title\": \"Pakistan to legalise crypto in bid to lure international investment: report\", \"url\": \"https://www.dawn.com/news/1899163\", \"content\": \"E-Paper | April 22, 2025\\n\\nSubscribe to notifications\\n\\nGet the latest news and updates from Dawn\\n\\nPakistan to legalise crypto in bid to lure international investment: report\\n\\nBilal Bin Saqib, the chief adviser to the finance minister of the Pakistan Crypto Council, said that the country planned to legalise cryptocurrency to lure international investment in Pakistan, Bloomberg reported. [...] On February 25, the finance ministry announced it was considering “establishing a National Crypto Council” to adopt emerging digital currencies in line with global trends, appointing Bilal bin Saqib as the chief adviser to the finance minister on the council. [...] The crypto council is designed to oversee policy development, address regulatory challenges, and ensure that Pakistan’s digital asset ecosystem evolves securely, compliantly, and sustainably. The council will also collaborate with friendly countries to develop standardised frameworks for international digital economic engagement.\\n\\nSaqib said, “Trump is making crypto a national priority and every country including Pakistan will have to follow suit.”\", \"score\": 0.8201387}, {\"title\": \"Can Binance founder help Pakistan become a crypto power?\", \"url\": \"https://www.aljazeera.com/news/2025/4/10/clear-message-can-binance-founder-help-pakistan-become-a-crypto-power\", \"content\": \"The appointment of Zhao is the latest in a recent wave of moves by the Sharif government aimed at regulating and integrating cryptocurrency innovations into the national financial framework.\\n\\nPakistan’s central bank had banned financial institutions from processing cryptocurrency transactions in 2018. Now, the country’s view of crypto appears to be changing. [...] Ranked 97th in mobile internet speed and 142nd in broadband speed globally, Pakistan’s weak digital infrastructure remains a major barrier to crypto adoption, say experts.\\n\\nElectricity shortages, especially in the summer, continue to affect consumers, while energy prices remain high.\\n\\nBitcoin, the most popular cryptocurrency, was capped at 21 million coins by Nakamoto. As of December 2024, 19.9 million have been mined, leaving about 1.1 million yet to be created. [...] Tehreek-e-Taliban Pakistan (TTP), a banned armed group waging war against the state since 2007, recently announced plans to raise funds through cryptocurrencies, urging supporters to use Binance for donations.\\n\\nThe United Nations Security Council’s Counter-Terrorism Committee has also raised concerns about groups such as ISIS/ISIL, al-Qaeda, and others using digital assets for financing.\", \"score\": 0.80442166}, {\"title\": \"Crypto Regulation In Pakistan: Why Now? | Dawn News English\", \"url\": \"https://www.youtube.com/watch?v=riXXeaehaKg\", \"content\": \"Crypto Regulation In Pakistan: Why Now? | Dawn News English \\n DawnNews English \\n 7 likes \\n 236 views \\n 21 Apr 2025 \\n Cryptocurrency in Pakistan is booming. But until recently, it wasn’t even legal.\\nWith nearly 20 million users, Pakistan is among the top four countries in the world for crypto adoption.\\n\\nSo why is the government now finally working to regulate it? What’s changed, and what does this mean for the economy? [...] #news #latestnews #dawnnewsenglish #dawnnews #cryptocurrency #pakistancrypto #cryptoregulation #web3 #digitalfinance #crypto #fintech #cryptoexchange #bilalbinsaqib #cryptonews #economy #crypto2025 #pakistan #blockchain #cryptoawareness \\n 2 comments\", \"score\": 0.7672197}, {\"title\": \"Pakistan | Cointelegraph\", \"url\": \"https://cointelegraph.com/tags/pakistan\", \"content\": \"Pakistan seeks to embrace cryptocurrencies as the world pivots toward digital assets following a policy overhaul in the United States.\\n\\nby Jesse Coghlan\\n\\nPakistan aims to regulate crypto to become a leader in blockchain finance and attract international investment, says Pakistan Crypto Council CEO.\\n\\nby Christopher Tepedino\\n\\nThe Finance Ministry of Pakistan is reportedly considering forming a National Crypto Council to explore the legalization of cryptocurrencies in the country. [...] Pakistan News\\n\\nby Sam Bourgi\\n\\nElsewhere, an industry panel told Cointelegraph that the crypto bull market probably hasn't even started yet.\\n\\nby Vince Quill\\n\\nThe government of Pakistan is embracing cryptocurrencies following the regulatory pivot in the United States.\\n\\nby Sam Bourgi\\n\\nThe Pakistan Crypto Council (PCC) was established in March to oversee the adoption of blockchain technology and digital assets.\\n\\nby Vince Quill\", \"score\": 0.7395922}]\n",
      "=================================\u001b[1m Tool Message \u001b[0m=================================\n",
      "Name: wikipedia\n",
      "\n",
      "Page: Digital currency\n",
      "Summary: Digital currency (digital money, electronic money or electronic currency) is any currency, money, or money-like asset that is primarily managed, stored or exchanged on digital computer systems, especially over the internet. Types of digital currencies include cryptocurrency, virtual currency and central bank digital currency. Digital currency may be recorded on a distributed database on the internet, a centralized electronic computer database owned by a company or\n",
      "==================================\u001b[1m Ai Message \u001b[0m==================================\n",
      "\n",
      "**Recent Crypto News in Pakistan:**  \n",
      "Pakistan's stance on cryptocurrencies has been evolving, with conflicting signals from authorities. Recent reports indicate that while the government previously claimed cryptocurrencies could not be legalized due to anti-money-laundering obligations (FATF requirements), there are now significant regulatory shifts:  \n",
      "- In early 2025, officials announced plans to **legalize cryptocurrencies** to attract foreign investment and establish Pakistan as a blockchain hub. A **National Crypto Council** was proposed to oversee policy development and compliance.  \n",
      "- Pakistan has nearly **20 million crypto users**, making it one of the world’s top adopters despite prior banking restrictions (e.g., a 2018 ban on financial institutions handling crypto).  \n",
      "- Challenges remain, including **infrastructure limitations** (slow internet, energy shortages) and concerns about crypto being used for terrorism funding (e.g., TTP reportedly fundraising via crypto).  \n",
      "\n",
      "---\n",
      "\n",
      "**History of Digital Currency:**  \n",
      "1. **1980s–1990s: Early Concepts**  \n",
      "   - Theoretical frameworks for digital money emerged, including David Chaum’s **DigiCash** (1990), an early encrypted e-cash system.  \n",
      "\n",
      "2. **2009: Bitcoin’s Launch**  \n",
      "   - Satoshi Nakamoto released Bitcoin, the first **decentralized cryptocurrency**, introducing blockchain technology to the world.  \n",
      "\n",
      "3. **2011–2015: Altcoins and Scalability**  \n",
      "   - Altcoins like **Litecoin** (2011) and **Ripple** (2012) emerged. Bitcoin’s blockchain faced scalability debates, leading to debates on block size and eventual forks (e.g., Bitcoin Cash in 2017).  \n",
      "\n",
      "4. **2015–2020: DeFi and Mainstream Attention**  \n",
      "   - Ethereum (2015) introduced smart contracts, enabling decentralized finance (DeFi). Institutions began taking notice, with Bitcoin hitting $20,000 in 2017 and Tesla investing in 2021.  \n",
      "\n",
      "5. **2020–Present: Central Bank Digital Currencies (CBDCs)**  \n",
      "   - Governments worldwide, including China (Digital Yuan) and the EU (Digital Euro), explored **CBDCs** to modernize payments and combat private crypto volatility.  \n",
      "\n",
      "6. **2023–2025: Regulatory Frameworks**  \n",
      "   - Many countries, including Pakistan (as seen above), have shifted from outright bans to creating regulatory sandboxes or CBDC pilots.  \n",
      "\n",
      "---\n",
      "\n",
      "**Key Takeaway for Pakistan:**  \n",
      "Pakistan’s recent regulatory moves align with global trends toward balancing innovation with anti-fraud measures. Its challenges (infrastructure, security) mirror broader concerns in emerging markets, but its adoption rates suggest a push to catch up with global digital currency evolution.\n"
     ]
    }
   ],
   "source": [
    "messages = graph.invoke({\"messages\":\"Recent crypto news in pakistan  and then tell me about the history of digital currency?\"})\n",
    "for m in messages['messages']:\n",
    "    m.pretty_print()"
   ]
  }
 ],
 "metadata": {
  "kernelspec": {
   "display_name": "myproject_kernel",
   "language": "python",
   "name": "myproject_kernel"
  },
  "language_info": {
   "codemirror_mode": {
    "name": "ipython",
    "version": 3
   },
   "file_extension": ".py",
   "mimetype": "text/x-python",
   "name": "python",
   "nbconvert_exporter": "python",
   "pygments_lexer": "ipython3",
   "version": "3.12.3"
  }
 },
 "nbformat": 4,
 "nbformat_minor": 5
}
